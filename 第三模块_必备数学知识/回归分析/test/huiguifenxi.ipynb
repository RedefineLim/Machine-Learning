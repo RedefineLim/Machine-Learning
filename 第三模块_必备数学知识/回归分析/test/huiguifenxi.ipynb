{
 "cells": [
  {
   "cell_type": "code",
   "execution_count": 1,
   "id": "5e42b556",
   "metadata": {},
   "outputs": [],
   "source": [
    "import numpy as np\n",
    "import matplotlib.pyplot as plt\n",
    "import statsmodels.api as sm"
   ]
  },
  {
   "cell_type": "code",
   "execution_count": 2,
   "id": "e72d7587",
   "metadata": {},
   "outputs": [
    {
     "data": {
      "text/plain": [
       "array([ 0.        ,  0.34482759,  0.68965517,  1.03448276,  1.37931034,\n",
       "        1.72413793,  2.06896552,  2.4137931 ,  2.75862069,  3.10344828,\n",
       "        3.44827586,  3.79310345,  4.13793103,  4.48275862,  4.82758621,\n",
       "        5.17241379,  5.51724138,  5.86206897,  6.20689655,  6.55172414,\n",
       "        6.89655172,  7.24137931,  7.5862069 ,  7.93103448,  8.27586207,\n",
       "        8.62068966,  8.96551724,  9.31034483,  9.65517241, 10.        ])"
      ]
     },
     "execution_count": 2,
     "metadata": {},
     "output_type": "execute_result"
    }
   ],
   "source": [
    "nsample = 30\n",
    "x = np.linspace(0,10,nsample)\n",
    "x"
   ]
  },
  {
   "cell_type": "markdown",
   "id": "51473bb5",
   "metadata": {},
   "source": [
    "一元线性回归"
   ]
  },
  {
   "cell_type": "code",
   "execution_count": 3,
   "id": "74f11824",
   "metadata": {},
   "outputs": [
    {
     "data": {
      "text/plain": [
       "array([[ 1.        ,  0.        ],\n",
       "       [ 1.        ,  0.34482759],\n",
       "       [ 1.        ,  0.68965517],\n",
       "       [ 1.        ,  1.03448276],\n",
       "       [ 1.        ,  1.37931034],\n",
       "       [ 1.        ,  1.72413793],\n",
       "       [ 1.        ,  2.06896552],\n",
       "       [ 1.        ,  2.4137931 ],\n",
       "       [ 1.        ,  2.75862069],\n",
       "       [ 1.        ,  3.10344828],\n",
       "       [ 1.        ,  3.44827586],\n",
       "       [ 1.        ,  3.79310345],\n",
       "       [ 1.        ,  4.13793103],\n",
       "       [ 1.        ,  4.48275862],\n",
       "       [ 1.        ,  4.82758621],\n",
       "       [ 1.        ,  5.17241379],\n",
       "       [ 1.        ,  5.51724138],\n",
       "       [ 1.        ,  5.86206897],\n",
       "       [ 1.        ,  6.20689655],\n",
       "       [ 1.        ,  6.55172414],\n",
       "       [ 1.        ,  6.89655172],\n",
       "       [ 1.        ,  7.24137931],\n",
       "       [ 1.        ,  7.5862069 ],\n",
       "       [ 1.        ,  7.93103448],\n",
       "       [ 1.        ,  8.27586207],\n",
       "       [ 1.        ,  8.62068966],\n",
       "       [ 1.        ,  8.96551724],\n",
       "       [ 1.        ,  9.31034483],\n",
       "       [ 1.        ,  9.65517241],\n",
       "       [ 1.        , 10.        ]])"
      ]
     },
     "execution_count": 3,
     "metadata": {},
     "output_type": "execute_result"
    }
   ],
   "source": [
    "X = sm.add_constant(x)\n",
    "X"
   ]
  },
  {
   "cell_type": "code",
   "execution_count": 4,
   "id": "e6ef6344",
   "metadata": {},
   "outputs": [
    {
     "data": {
      "text/plain": [
       "array([2, 5])"
      ]
     },
     "execution_count": 4,
     "metadata": {},
     "output_type": "execute_result"
    }
   ],
   "source": [
    "beta = np.array([2,5])\n",
    "beta"
   ]
  },
  {
   "cell_type": "code",
   "execution_count": 5,
   "id": "757a216a",
   "metadata": {},
   "outputs": [
    {
     "data": {
      "text/plain": [
       "array([-0.15750622, -0.85968786, -0.17346878, -0.61971367,  0.9054719 ,\n",
       "       -0.41382565, -1.47277654, -0.10179437,  1.43716666, -0.55171868,\n",
       "       -0.4386702 ,  0.78607138,  0.54407401, -0.77857974, -0.18169763,\n",
       "       -0.1228189 ,  0.57916552,  0.17530205,  1.39639572, -0.80352578,\n",
       "       -0.65906595,  2.20537495, -0.68168424,  0.21441411,  1.14273512,\n",
       "        0.87270136, -0.54090441,  0.98418536,  0.42875823,  1.15290262])"
      ]
     },
     "execution_count": 5,
     "metadata": {},
     "output_type": "execute_result"
    }
   ],
   "source": [
    "e = np.random.normal(size=nsample)\n",
    "e"
   ]
  },
  {
   "cell_type": "code",
   "execution_count": 6,
   "id": "c10ed7c0",
   "metadata": {},
   "outputs": [
    {
     "data": {
      "text/plain": [
       "array([ 1.84249378,  2.86445007,  5.27480708,  6.55270012,  9.80202362,\n",
       "       10.206864  , 10.87205105, 13.96717115, 17.23027011, 16.96552269,\n",
       "       18.80270911, 21.75158862, 23.23372919, 23.63521336, 25.9562334 ,\n",
       "       27.73925007, 30.16537241, 31.48564688, 34.43087848, 33.95509491,\n",
       "       35.82369267, 40.4122715 , 39.24935025, 41.86958652, 44.52204546,\n",
       "       45.97614964, 46.2866818 , 49.5359095 , 50.7046203 , 53.15290262])"
      ]
     },
     "execution_count": 6,
     "metadata": {},
     "output_type": "execute_result"
    }
   ],
   "source": [
    "y = np.dot(X, beta) + e\n",
    "y"
   ]
  },
  {
   "cell_type": "code",
   "execution_count": 7,
   "id": "b2b911a3",
   "metadata": {},
   "outputs": [],
   "source": [
    "# 最小二乘法\n",
    "model = sm.OLS(y,X)"
   ]
  },
  {
   "cell_type": "code",
   "execution_count": 8,
   "id": "e9fbbbf7",
   "metadata": {},
   "outputs": [],
   "source": [
    "#拟合数据\n",
    "res = model.fit()"
   ]
  },
  {
   "cell_type": "code",
   "execution_count": 9,
   "id": "08ef6876",
   "metadata": {},
   "outputs": [
    {
     "data": {
      "text/plain": [
       "array([1.61160737, 5.10612706])"
      ]
     },
     "execution_count": 9,
     "metadata": {},
     "output_type": "execute_result"
    }
   ],
   "source": [
    "#回归系数\n",
    "res.params"
   ]
  },
  {
   "cell_type": "code",
   "execution_count": 10,
   "id": "e3e69bd1",
   "metadata": {},
   "outputs": [
    {
     "data": {
      "text/html": [
       "<table class=\"simpletable\">\n",
       "<caption>OLS Regression Results</caption>\n",
       "<tr>\n",
       "  <th>Dep. Variable:</th>            <td>y</td>        <th>  R-squared:         </th> <td>   0.997</td> \n",
       "</tr>\n",
       "<tr>\n",
       "  <th>Model:</th>                   <td>OLS</td>       <th>  Adj. R-squared:    </th> <td>   0.997</td> \n",
       "</tr>\n",
       "<tr>\n",
       "  <th>Method:</th>             <td>Least Squares</td>  <th>  F-statistic:       </th> <td>1.056e+04</td>\n",
       "</tr>\n",
       "<tr>\n",
       "  <th>Date:</th>             <td>Mon, 26 Aug 2024</td> <th>  Prob (F-statistic):</th> <td>1.22e-37</td> \n",
       "</tr>\n",
       "<tr>\n",
       "  <th>Time:</th>                 <td>14:32:42</td>     <th>  Log-Likelihood:    </th> <td> -35.296</td> \n",
       "</tr>\n",
       "<tr>\n",
       "  <th>No. Observations:</th>      <td>    30</td>      <th>  AIC:               </th> <td>   74.59</td> \n",
       "</tr>\n",
       "<tr>\n",
       "  <th>Df Residuals:</th>          <td>    28</td>      <th>  BIC:               </th> <td>   77.39</td> \n",
       "</tr>\n",
       "<tr>\n",
       "  <th>Df Model:</th>              <td>     1</td>      <th>                     </th>     <td> </td>    \n",
       "</tr>\n",
       "<tr>\n",
       "  <th>Covariance Type:</th>      <td>nonrobust</td>    <th>                     </th>     <td> </td>    \n",
       "</tr>\n",
       "</table>\n",
       "<table class=\"simpletable\">\n",
       "<tr>\n",
       "    <td></td>       <th>coef</th>     <th>std err</th>      <th>t</th>      <th>P>|t|</th>  <th>[0.025</th>    <th>0.975]</th>  \n",
       "</tr>\n",
       "<tr>\n",
       "  <th>const</th> <td>    1.6116</td> <td>    0.289</td> <td>    5.570</td> <td> 0.000</td> <td>    1.019</td> <td>    2.204</td>\n",
       "</tr>\n",
       "<tr>\n",
       "  <th>x1</th>    <td>    5.1061</td> <td>    0.050</td> <td>  102.764</td> <td> 0.000</td> <td>    5.004</td> <td>    5.208</td>\n",
       "</tr>\n",
       "</table>\n",
       "<table class=\"simpletable\">\n",
       "<tr>\n",
       "  <th>Omnibus:</th>       <td> 0.925</td> <th>  Durbin-Watson:     </th> <td>   2.632</td>\n",
       "</tr>\n",
       "<tr>\n",
       "  <th>Prob(Omnibus):</th> <td> 0.630</td> <th>  Jarque-Bera (JB):  </th> <td>   0.876</td>\n",
       "</tr>\n",
       "<tr>\n",
       "  <th>Skew:</th>          <td> 0.372</td> <th>  Prob(JB):          </th> <td>   0.645</td>\n",
       "</tr>\n",
       "<tr>\n",
       "  <th>Kurtosis:</th>      <td> 2.618</td> <th>  Cond. No.          </th> <td>    11.6</td>\n",
       "</tr>\n",
       "</table><br/><br/>Notes:<br/>[1] Standard Errors assume that the covariance matrix of the errors is correctly specified."
      ],
      "text/plain": [
       "<class 'statsmodels.iolib.summary.Summary'>\n",
       "\"\"\"\n",
       "                            OLS Regression Results                            \n",
       "==============================================================================\n",
       "Dep. Variable:                      y   R-squared:                       0.997\n",
       "Model:                            OLS   Adj. R-squared:                  0.997\n",
       "Method:                 Least Squares   F-statistic:                 1.056e+04\n",
       "Date:                Mon, 26 Aug 2024   Prob (F-statistic):           1.22e-37\n",
       "Time:                        14:32:42   Log-Likelihood:                -35.296\n",
       "No. Observations:                  30   AIC:                             74.59\n",
       "Df Residuals:                      28   BIC:                             77.39\n",
       "Df Model:                           1                                         \n",
       "Covariance Type:            nonrobust                                         \n",
       "==============================================================================\n",
       "                 coef    std err          t      P>|t|      [0.025      0.975]\n",
       "------------------------------------------------------------------------------\n",
       "const          1.6116      0.289      5.570      0.000       1.019       2.204\n",
       "x1             5.1061      0.050    102.764      0.000       5.004       5.208\n",
       "==============================================================================\n",
       "Omnibus:                        0.925   Durbin-Watson:                   2.632\n",
       "Prob(Omnibus):                  0.630   Jarque-Bera (JB):                0.876\n",
       "Skew:                           0.372   Prob(JB):                        0.645\n",
       "Kurtosis:                       2.618   Cond. No.                         11.6\n",
       "==============================================================================\n",
       "\n",
       "Notes:\n",
       "[1] Standard Errors assume that the covariance matrix of the errors is correctly specified.\n",
       "\"\"\""
      ]
     },
     "execution_count": 10,
     "metadata": {},
     "output_type": "execute_result"
    }
   ],
   "source": [
    "#全部结果\n",
    "res.summary()"
   ]
  },
  {
   "cell_type": "code",
   "execution_count": 11,
   "id": "87d9d7e1",
   "metadata": {},
   "outputs": [
    {
     "data": {
      "text/plain": [
       "array([ 1.61160737,  3.37234084,  5.13307431,  6.89380778,  8.65454125,\n",
       "       10.41527472, 12.17600819, 13.93674166, 15.69747513, 17.4582086 ,\n",
       "       19.21894207, 20.97967553, 22.740409  , 24.50114247, 26.26187594,\n",
       "       28.02260941, 29.78334288, 31.54407635, 33.30480982, 35.06554329,\n",
       "       36.82627676, 38.58701023, 40.3477437 , 42.10847717, 43.86921064,\n",
       "       45.62994411, 47.39067758, 49.15141105, 50.91214452, 52.67287799])"
      ]
     },
     "execution_count": 11,
     "metadata": {},
     "output_type": "execute_result"
    }
   ],
   "source": [
    "y_ = res.fittedvalues\n",
    "y_"
   ]
  },
  {
   "cell_type": "code",
   "execution_count": 12,
   "id": "133fd701",
   "metadata": {},
   "outputs": [
    {
     "data": {
      "image/png": "[encoded data removed]",
      "text/plain": [
       "<Figure size 800x600 with 1 Axes>"
      ]
     },
     "metadata": {},
     "output_type": "display_data"
    }
   ],
   "source": [
    "fig, ax = plt.subplots(figsize=(8,6))\n",
    "ax.plot(x,y,'o',label='data')\n",
    "ax.plot(x,y_,'r--.',label='OLS')\n",
    "ax.legend(loc='best')\n",
    "plt.show()"
   ]
  },
  {
   "cell_type": "markdown",
   "id": "29b42e79",
   "metadata": {},
   "source": [
    "高阶回归"
   ]
  },
  {
   "cell_type": "code",
   "execution_count": 13,
   "id": "87adff42",
   "metadata": {},
   "outputs": [],
   "source": [
    "#Y=5+2⋅X+3⋅X^2\n",
    "\n",
    "nsample = 50\n",
    "x = np.linspace(0,10,nsample)\n",
    "X = np.column_stack((x,x**2))\n",
    "X = sm.add_constant(X)"
   ]
  },
  {
   "cell_type": "code",
   "execution_count": 14,
   "id": "a4c5029c",
   "metadata": {},
   "outputs": [
    {
     "data": {
      "text/plain": [
       "array([5.11796058, 1.88384386, 3.00903544])"
      ]
     },
     "execution_count": 14,
     "metadata": {},
     "output_type": "execute_result"
    }
   ],
   "source": [
    "beta = np.array([5,2,3])\n",
    "e = np.random.normal(size=nsample)\n",
    "y = np.dot(X,beta) + e\n",
    "model = sm.OLS(y,X)\n",
    "res = model.fit()\n",
    "res.params"
   ]
  },
  {
   "cell_type": "code",
   "execution_count": 17,
   "id": "a0ba535d",
   "metadata": {},
   "outputs": [
    {
     "data": {
      "text/html": [
       "<table class=\"simpletable\">\n",
       "<caption>OLS Regression Results</caption>\n",
       "<tr>\n",
       "  <th>Dep. Variable:</th>            <td>y</td>        <th>  R-squared:         </th> <td>   1.000</td> \n",
       "</tr>\n",
       "<tr>\n",
       "  <th>Model:</th>                   <td>OLS</td>       <th>  Adj. R-squared:    </th> <td>   1.000</td> \n",
       "</tr>\n",
       "<tr>\n",
       "  <th>Method:</th>             <td>Least Squares</td>  <th>  F-statistic:       </th> <td>2.387e+05</td>\n",
       "</tr>\n",
       "<tr>\n",
       "  <th>Date:</th>             <td>Mon, 26 Aug 2024</td> <th>  Prob (F-statistic):</th> <td>6.92e-95</td> \n",
       "</tr>\n",
       "<tr>\n",
       "  <th>Time:</th>                 <td>14:37:24</td>     <th>  Log-Likelihood:    </th> <td> -69.042</td> \n",
       "</tr>\n",
       "<tr>\n",
       "  <th>No. Observations:</th>      <td>    50</td>      <th>  AIC:               </th> <td>   144.1</td> \n",
       "</tr>\n",
       "<tr>\n",
       "  <th>Df Residuals:</th>          <td>    47</td>      <th>  BIC:               </th> <td>   149.8</td> \n",
       "</tr>\n",
       "<tr>\n",
       "  <th>Df Model:</th>              <td>     2</td>      <th>                     </th>     <td> </td>    \n",
       "</tr>\n",
       "<tr>\n",
       "  <th>Covariance Type:</th>      <td>nonrobust</td>    <th>                     </th>     <td> </td>    \n",
       "</tr>\n",
       "</table>\n",
       "<table class=\"simpletable\">\n",
       "<tr>\n",
       "    <td></td>       <th>coef</th>     <th>std err</th>      <th>t</th>      <th>P>|t|</th>  <th>[0.025</th>    <th>0.975]</th>  \n",
       "</tr>\n",
       "<tr>\n",
       "  <th>const</th> <td>    5.1180</td> <td>    0.405</td> <td>   12.639</td> <td> 0.000</td> <td>    4.303</td> <td>    5.933</td>\n",
       "</tr>\n",
       "<tr>\n",
       "  <th>x1</th>    <td>    1.8838</td> <td>    0.187</td> <td>   10.059</td> <td> 0.000</td> <td>    1.507</td> <td>    2.261</td>\n",
       "</tr>\n",
       "<tr>\n",
       "  <th>x2</th>    <td>    3.0090</td> <td>    0.018</td> <td>  166.148</td> <td> 0.000</td> <td>    2.973</td> <td>    3.045</td>\n",
       "</tr>\n",
       "</table>\n",
       "<table class=\"simpletable\">\n",
       "<tr>\n",
       "  <th>Omnibus:</th>       <td> 0.135</td> <th>  Durbin-Watson:     </th> <td>   1.919</td>\n",
       "</tr>\n",
       "<tr>\n",
       "  <th>Prob(Omnibus):</th> <td> 0.934</td> <th>  Jarque-Bera (JB):  </th> <td>   0.045</td>\n",
       "</tr>\n",
       "<tr>\n",
       "  <th>Skew:</th>          <td>-0.065</td> <th>  Prob(JB):          </th> <td>   0.978</td>\n",
       "</tr>\n",
       "<tr>\n",
       "  <th>Kurtosis:</th>      <td> 2.930</td> <th>  Cond. No.          </th> <td>    142.</td>\n",
       "</tr>\n",
       "</table><br/><br/>Notes:<br/>[1] Standard Errors assume that the covariance matrix of the errors is correctly specified."
      ],
      "text/plain": [
       "<class 'statsmodels.iolib.summary.Summary'>\n",
       "\"\"\"\n",
       "                            OLS Regression Results                            \n",
       "==============================================================================\n",
       "Dep. Variable:                      y   R-squared:                       1.000\n",
       "Model:                            OLS   Adj. R-squared:                  1.000\n",
       "Method:                 Least Squares   F-statistic:                 2.387e+05\n",
       "Date:                Mon, 26 Aug 2024   Prob (F-statistic):           6.92e-95\n",
       "Time:                        14:37:24   Log-Likelihood:                -69.042\n",
       "No. Observations:                  50   AIC:                             144.1\n",
       "Df Residuals:                      47   BIC:                             149.8\n",
       "Df Model:                           2                                         \n",
       "Covariance Type:            nonrobust                                         \n",
       "==============================================================================\n",
       "                 coef    std err          t      P>|t|      [0.025      0.975]\n",
       "------------------------------------------------------------------------------\n",
       "const          5.1180      0.405     12.639      0.000       4.303       5.933\n",
       "x1             1.8838      0.187     10.059      0.000       1.507       2.261\n",
       "x2             3.0090      0.018    166.148      0.000       2.973       3.045\n",
       "==============================================================================\n",
       "Omnibus:                        0.135   Durbin-Watson:                   1.919\n",
       "Prob(Omnibus):                  0.934   Jarque-Bera (JB):                0.045\n",
       "Skew:                          -0.065   Prob(JB):                        0.978\n",
       "Kurtosis:                       2.930   Cond. No.                         142.\n",
       "==============================================================================\n",
       "\n",
       "Notes:\n",
       "[1] Standard Errors assume that the covariance matrix of the errors is correctly specified.\n",
       "\"\"\""
      ]
     },
     "execution_count": 17,
     "metadata": {},
     "output_type": "execute_result"
    }
   ],
   "source": [
    "res.summary()"
   ]
  },
  {
   "cell_type": "code",
   "execution_count": 18,
   "id": "bbe2bb34",
   "metadata": {},
   "outputs": [
    {
     "data": {
      "image/png": "[encoded data removed]",
      "text/plain": [
       "<Figure size 800x600 with 1 Axes>"
      ]
     },
     "metadata": {},
     "output_type": "display_data"
    }
   ],
   "source": [
    "y_ = res.fittedvalues\n",
    "fig, ax = plt.subplots(figsize=(8,6))\n",
    "ax.plot(x, y, 'o', label='data')\n",
    "ax.plot(x, y_,'r--',label='OLS')\n",
    "ax.legend(loc='best')\n",
    "plt.show()"
   ]
  },
  {
   "cell_type": "markdown",
   "id": "42093dec",
   "metadata": {},
   "source": [
    "分类变量"
   ]
  },
  {
   "cell_type": "code",
   "execution_count": 19,
   "id": "52d18bc6",
   "metadata": {},
   "outputs": [
    {
     "data": {
      "text/plain": [
       "array([0, 0, 0, 0, 0, 0, 0, 0, 0, 0, 0, 0, 0, 0, 0, 0, 0, 0, 0, 0, 0, 0,\n",
       "       0, 0, 0, 0, 0, 0, 0, 0, 0, 0, 0, 0, 0, 0, 0, 0, 0, 0, 0, 0, 0, 0,\n",
       "       0, 0, 0, 0, 0, 0])"
      ]
     },
     "execution_count": 19,
     "metadata": {},
     "output_type": "execute_result"
    }
   ],
   "source": [
    "nsample = 50\n",
    "groups = np.zeros(nsample, int)\n",
    "groups"
   ]
  },
  {
   "cell_type": "code",
   "execution_count": 20,
   "id": "ab5813cd",
   "metadata": {},
   "outputs": [
    {
     "name": "stderr",
     "output_type": "stream",
     "text": [
      "E:\\Anaconda3\\lib\\site-packages\\statsmodels\\tools\\tools.py:152: FutureWarning: categorical is deprecated. Use pandas Categorical to represent categorical data and can get_dummies to construct dummy arrays. It will be removed after release 0.13.\n",
      "  warnings.warn(\n"
     ]
    },
    {
     "data": {
      "text/plain": [
       "array([[1., 0., 0.],\n",
       "       [1., 0., 0.],\n",
       "       [1., 0., 0.],\n",
       "       [1., 0., 0.],\n",
       "       [1., 0., 0.],\n",
       "       [1., 0., 0.],\n",
       "       [1., 0., 0.],\n",
       "       [1., 0., 0.],\n",
       "       [1., 0., 0.],\n",
       "       [1., 0., 0.],\n",
       "       [1., 0., 0.],\n",
       "       [1., 0., 0.],\n",
       "       [1., 0., 0.],\n",
       "       [1., 0., 0.],\n",
       "       [1., 0., 0.],\n",
       "       [1., 0., 0.],\n",
       "       [1., 0., 0.],\n",
       "       [1., 0., 0.],\n",
       "       [1., 0., 0.],\n",
       "       [1., 0., 0.],\n",
       "       [0., 1., 0.],\n",
       "       [0., 1., 0.],\n",
       "       [0., 1., 0.],\n",
       "       [0., 1., 0.],\n",
       "       [0., 1., 0.],\n",
       "       [0., 1., 0.],\n",
       "       [0., 1., 0.],\n",
       "       [0., 1., 0.],\n",
       "       [0., 1., 0.],\n",
       "       [0., 1., 0.],\n",
       "       [0., 1., 0.],\n",
       "       [0., 1., 0.],\n",
       "       [0., 1., 0.],\n",
       "       [0., 1., 0.],\n",
       "       [0., 1., 0.],\n",
       "       [0., 1., 0.],\n",
       "       [0., 1., 0.],\n",
       "       [0., 1., 0.],\n",
       "       [0., 1., 0.],\n",
       "       [0., 1., 0.],\n",
       "       [0., 0., 1.],\n",
       "       [0., 0., 1.],\n",
       "       [0., 0., 1.],\n",
       "       [0., 0., 1.],\n",
       "       [0., 0., 1.],\n",
       "       [0., 0., 1.],\n",
       "       [0., 0., 1.],\n",
       "       [0., 0., 1.],\n",
       "       [0., 0., 1.],\n",
       "       [0., 0., 1.]])"
      ]
     },
     "execution_count": 20,
     "metadata": {},
     "output_type": "execute_result"
    }
   ],
   "source": [
    "groups[20:40] = 1\n",
    "groups[40:] = 2\n",
    "dummy = sm.categorical(groups, drop=True)\n",
    "dummy"
   ]
  },
  {
   "cell_type": "code",
   "execution_count": 21,
   "id": "e7217c9f",
   "metadata": {},
   "outputs": [
    {
     "data": {
      "text/html": [
       "<table class=\"simpletable\">\n",
       "<caption>OLS Regression Results</caption>\n",
       "<tr>\n",
       "  <th>Dep. Variable:</th>            <td>y</td>        <th>  R-squared:         </th> <td>   0.994</td>\n",
       "</tr>\n",
       "<tr>\n",
       "  <th>Model:</th>                   <td>OLS</td>       <th>  Adj. R-squared:    </th> <td>   0.994</td>\n",
       "</tr>\n",
       "<tr>\n",
       "  <th>Method:</th>             <td>Least Squares</td>  <th>  F-statistic:       </th> <td>   2540.</td>\n",
       "</tr>\n",
       "<tr>\n",
       "  <th>Date:</th>             <td>Mon, 26 Aug 2024</td> <th>  Prob (F-statistic):</th> <td>4.33e-51</td>\n",
       "</tr>\n",
       "<tr>\n",
       "  <th>Time:</th>                 <td>14:47:42</td>     <th>  Log-Likelihood:    </th> <td> -75.379</td>\n",
       "</tr>\n",
       "<tr>\n",
       "  <th>No. Observations:</th>      <td>    50</td>      <th>  AIC:               </th> <td>   158.8</td>\n",
       "</tr>\n",
       "<tr>\n",
       "  <th>Df Residuals:</th>          <td>    46</td>      <th>  BIC:               </th> <td>   166.4</td>\n",
       "</tr>\n",
       "<tr>\n",
       "  <th>Df Model:</th>              <td>     3</td>      <th>                     </th>     <td> </td>   \n",
       "</tr>\n",
       "<tr>\n",
       "  <th>Covariance Type:</th>      <td>nonrobust</td>    <th>                     </th>     <td> </td>   \n",
       "</tr>\n",
       "</table>\n",
       "<table class=\"simpletable\">\n",
       "<tr>\n",
       "    <td></td>       <th>coef</th>     <th>std err</th>      <th>t</th>      <th>P>|t|</th>  <th>[0.025</th>    <th>0.975]</th>  \n",
       "</tr>\n",
       "<tr>\n",
       "  <th>const</th> <td>    8.5382</td> <td>    0.645</td> <td>   13.228</td> <td> 0.000</td> <td>    7.239</td> <td>    9.837</td>\n",
       "</tr>\n",
       "<tr>\n",
       "  <th>x1</th>    <td>    1.9828</td> <td>    0.074</td> <td>   26.699</td> <td> 0.000</td> <td>    1.833</td> <td>    2.132</td>\n",
       "</tr>\n",
       "<tr>\n",
       "  <th>x2</th>    <td>   -0.5433</td> <td>    0.409</td> <td>   -1.327</td> <td> 0.191</td> <td>   -1.367</td> <td>    0.281</td>\n",
       "</tr>\n",
       "<tr>\n",
       "  <th>x3</th>    <td>    2.8192</td> <td>    0.342</td> <td>    8.241</td> <td> 0.000</td> <td>    2.131</td> <td>    3.508</td>\n",
       "</tr>\n",
       "<tr>\n",
       "  <th>x4</th>    <td>    6.2622</td> <td>    0.771</td> <td>    8.126</td> <td> 0.000</td> <td>    4.711</td> <td>    7.814</td>\n",
       "</tr>\n",
       "</table>\n",
       "<table class=\"simpletable\">\n",
       "<tr>\n",
       "  <th>Omnibus:</th>       <td> 1.206</td> <th>  Durbin-Watson:     </th> <td>   2.185</td>\n",
       "</tr>\n",
       "<tr>\n",
       "  <th>Prob(Omnibus):</th> <td> 0.547</td> <th>  Jarque-Bera (JB):  </th> <td>   1.184</td>\n",
       "</tr>\n",
       "<tr>\n",
       "  <th>Skew:</th>          <td> 0.345</td> <th>  Prob(JB):          </th> <td>   0.553</td>\n",
       "</tr>\n",
       "<tr>\n",
       "  <th>Kurtosis:</th>      <td> 2.695</td> <th>  Cond. No.          </th> <td>3.77e+17</td>\n",
       "</tr>\n",
       "</table><br/><br/>Notes:<br/>[1] Standard Errors assume that the covariance matrix of the errors is correctly specified.<br/>[2] The smallest eigenvalue is 4.78e-32. This might indicate that there are<br/>strong multicollinearity problems or that the design matrix is singular."
      ],
      "text/plain": [
       "<class 'statsmodels.iolib.summary.Summary'>\n",
       "\"\"\"\n",
       "                            OLS Regression Results                            \n",
       "==============================================================================\n",
       "Dep. Variable:                      y   R-squared:                       0.994\n",
       "Model:                            OLS   Adj. R-squared:                  0.994\n",
       "Method:                 Least Squares   F-statistic:                     2540.\n",
       "Date:                Mon, 26 Aug 2024   Prob (F-statistic):           4.33e-51\n",
       "Time:                        14:47:42   Log-Likelihood:                -75.379\n",
       "No. Observations:                  50   AIC:                             158.8\n",
       "Df Residuals:                      46   BIC:                             166.4\n",
       "Df Model:                           3                                         \n",
       "Covariance Type:            nonrobust                                         \n",
       "==============================================================================\n",
       "                 coef    std err          t      P>|t|      [0.025      0.975]\n",
       "------------------------------------------------------------------------------\n",
       "const          8.5382      0.645     13.228      0.000       7.239       9.837\n",
       "x1             1.9828      0.074     26.699      0.000       1.833       2.132\n",
       "x2            -0.5433      0.409     -1.327      0.191      -1.367       0.281\n",
       "x3             2.8192      0.342      8.241      0.000       2.131       3.508\n",
       "x4             6.2622      0.771      8.126      0.000       4.711       7.814\n",
       "==============================================================================\n",
       "Omnibus:                        1.206   Durbin-Watson:                   2.185\n",
       "Prob(Omnibus):                  0.547   Jarque-Bera (JB):                1.184\n",
       "Skew:                           0.345   Prob(JB):                        0.553\n",
       "Kurtosis:                       2.695   Cond. No.                     3.77e+17\n",
       "==============================================================================\n",
       "\n",
       "Notes:\n",
       "[1] Standard Errors assume that the covariance matrix of the errors is correctly specified.\n",
       "[2] The smallest eigenvalue is 4.78e-32. This might indicate that there are\n",
       "strong multicollinearity problems or that the design matrix is singular.\n",
       "\"\"\""
      ]
     },
     "execution_count": 21,
     "metadata": {},
     "output_type": "execute_result"
    }
   ],
   "source": [
    "#Y=5+2X+3Z1+6⋅Z2+9⋅Z3.\n",
    "\n",
    "x = np.linspace(0,20,nsample)\n",
    "X = np.column_stack((x,dummy))\n",
    "X = sm.add_constant(X)\n",
    "beta = [5,2,3,6,9]\n",
    "e = np.random.normal(size=nsample)\n",
    "y = np.dot(X,beta) + e\n",
    "res = sm.OLS(y,X).fit()\n",
    "res.summary()"
   ]
  },
  {
   "cell_type": "code",
   "execution_count": 23,
   "id": "eb6f0f59",
   "metadata": {},
   "outputs": [
    {
     "data": {
      "image/png": "[encoded data removed]",
      "text/plain": [
       "<Figure size 800x600 with 1 Axes>"
      ]
     },
     "metadata": {},
     "output_type": "display_data"
    }
   ],
   "source": [
    "fig, ax = plt.subplots(figsize=(8,6))\n",
    "ax.plot(x,y,'o',label='data')\n",
    "ax.plot(x,res.fittedvalues, 'r--.', label='OLS')\n",
    "ax.legend(loc='best')\n",
    "plt.show()"
   ]
  },
  {
   "cell_type": "code",
   "execution_count": null,
   "id": "e50d7ce2",
   "metadata": {},
   "outputs": [],
   "source": []
  }
 ],
 "metadata": {
  "kernelspec": {
   "display_name": "Python 3 (ipykernel)",
   "language": "python",
   "name": "python3"
  },
  "language_info": {
   "codemirror_mode": {
    "name": "ipython",
    "version": 3
   },
   "file_extension": ".py",
   "mimetype": "text/x-python",
   "name": "python",
   "nbconvert_exporter": "python",
   "pygments_lexer": "ipython3",
   "version": "3.9.13"
  }
 },
 "nbformat": 4,
 "nbformat_minor": 5
}
