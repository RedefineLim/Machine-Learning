{
 "cells": [
  {
   "cell_type": "code",
   "execution_count": 1,
   "id": "1c6fd5f6",
   "metadata": {},
   "outputs": [
    {
     "name": "stdout",
     "output_type": "stream",
     "text": [
      "correlation 0.9891763198690562\n",
      "pvalue 5.926875946481136e-08\n"
     ]
    },
    {
     "name": "stderr",
     "output_type": "stream",
     "text": [
      "C:\\Users\\guoqi\\AppData\\Local\\Temp\\ipykernel_18300\\3896217173.py:8: DeprecationWarning: Please use `pearsonr` from the `scipy.stats` namespace, the `scipy.stats.stats` namespace is deprecated.\n",
      "  correlation,pvalue = stats.stats.pearsonr(x,y)\n"
     ]
    }
   ],
   "source": [
    "import numpy as np\n",
    "import scipy.stats as stats  \n",
    "import scipy\n",
    "#https://docs.scipy.org/doc/scipy-0.19.1/reference/stats.html#module-scipy.stats\n",
    "\n",
    "x = [10.35, 6.24, 3.18, 8.46, 3.21, 7.65, 4.32, 8.66, 9.12, 10.31]  \n",
    "y = [5.1, 3.15, 1.67, 4.33, 1.76, 4.11, 2.11, 4.88, 4.99, 5.12]  \n",
    "correlation,pvalue = stats.stats.pearsonr(x,y) \n",
    "print ('correlation',correlation)\n",
    "print ('pvalue',pvalue)"
   ]
  },
  {
   "cell_type": "code",
   "execution_count": 2,
   "id": "335e3d21",
   "metadata": {},
   "outputs": [
    {
     "data": {
      "image/png": "[encoded data removed]",
      "text/plain": [
       "<Figure size 640x480 with 1 Axes>"
      ]
     },
     "metadata": {},
     "output_type": "display_data"
    }
   ],
   "source": [
    "import matplotlib.pyplot as plt\n",
    "plt.scatter(x,y)\n",
    "plt.show()"
   ]
  },
  {
   "cell_type": "code",
   "execution_count": 3,
   "id": "080b5e39",
   "metadata": {},
   "outputs": [
    {
     "name": "stdout",
     "output_type": "stream",
     "text": [
      "correlation 0.7659287963138057\n",
      "pvalue 0.026696497208767985\n"
     ]
    },
    {
     "name": "stderr",
     "output_type": "stream",
     "text": [
      "C:\\Users\\guoqi\\AppData\\Local\\Temp\\ipykernel_18300\\1762653140.py:7: DeprecationWarning: Please use `pearsonr` from the `scipy.stats` namespace, the `scipy.stats.stats` namespace is deprecated.\n",
      "  correlation,pvalue = stats.stats.pearsonr(x,y)\n"
     ]
    }
   ],
   "source": [
    "import numpy as np\n",
    "import scipy.stats as stats  \n",
    "import scipy\n",
    "\n",
    "x = [0.6,0.7,1,2.1,2.9,3.2,5.5,6.7]\n",
    "y = np.power(x,10)\n",
    "correlation,pvalue = stats.stats.pearsonr(x,y) \n",
    "print ('correlation',correlation)\n",
    "print ('pvalue',pvalue)"
   ]
  },
  {
   "cell_type": "code",
   "execution_count": 4,
   "id": "a7c0b484",
   "metadata": {},
   "outputs": [
    {
     "name": "stdout",
     "output_type": "stream",
     "text": [
      "correlation 0.9999999999999999\n",
      "pvalue 6.646897422032013e-64\n"
     ]
    },
    {
     "name": "stderr",
     "output_type": "stream",
     "text": [
      "C:\\Users\\guoqi\\AppData\\Local\\Temp\\ipykernel_18300\\587686028.py:3: DeprecationWarning: Please use `spearmanr` from the `scipy.stats` namespace, the `scipy.stats.stats` namespace is deprecated.\n",
      "  correlation,pvalue = stats.stats.spearmanr(x,y)\n"
     ]
    }
   ],
   "source": [
    "x = [10.35, 6.24, 3.18, 8.46, 3.21, 7.65, 4.32, 8.66, 9.12, 10.31]  \n",
    "y = [5.13, 3.15, 1.67, 4.33, 1.76, 4.11, 2.11, 4.88, 4.99, 5.12]  \n",
    "correlation,pvalue = stats.stats.spearmanr(x,y)  \n",
    "\n",
    "print ('correlation',correlation)\n",
    "print ('pvalue',pvalue)"
   ]
  },
  {
   "cell_type": "code",
   "execution_count": 5,
   "id": "319a5eda",
   "metadata": {},
   "outputs": [
    {
     "name": "stdout",
     "output_type": "stream",
     "text": [
      "[10.  4.  1.  6.  2.  5.  3.  7.  8.  9.] [10.  4.  1.  6.  2.  5.  3.  7.  8.  9.]\n",
      "correlation 0.9999999999999999\n",
      "pvalue 6.646897422032013e-64\n"
     ]
    },
    {
     "name": "stderr",
     "output_type": "stream",
     "text": [
      "C:\\Users\\guoqi\\AppData\\Local\\Temp\\ipykernel_18300\\1651705983.py:3: DeprecationWarning: Please use `rankdata` from the `scipy.stats` namespace, the `scipy.stats.stats` namespace is deprecated.\n",
      "  x = scipy.stats.stats.rankdata(x)\n",
      "C:\\Users\\guoqi\\AppData\\Local\\Temp\\ipykernel_18300\\1651705983.py:4: DeprecationWarning: Please use `rankdata` from the `scipy.stats` namespace, the `scipy.stats.stats` namespace is deprecated.\n",
      "  y = scipy.stats.stats.rankdata(y)\n",
      "C:\\Users\\guoqi\\AppData\\Local\\Temp\\ipykernel_18300\\1651705983.py:6: DeprecationWarning: Please use `spearmanr` from the `scipy.stats` namespace, the `scipy.stats.stats` namespace is deprecated.\n",
      "  correlation,pvalue = stats.stats.spearmanr(x,y)\n"
     ]
    }
   ],
   "source": [
    "x = [10.35, 6.24, 3.18, 8.46, 3.21, 7.65, 4.32, 8.66, 9.12, 10.31]  \n",
    "y = [5.13, 3.15, 1.67, 4.33, 1.76, 4.11, 2.11, 4.88, 4.99, 5.12]\n",
    "x = scipy.stats.stats.rankdata(x)\n",
    "y = scipy.stats.stats.rankdata(y)\n",
    "print (x,y)\n",
    "correlation,pvalue = stats.stats.spearmanr(x,y)  \n",
    "\n",
    "print ('correlation',correlation)\n",
    "print ('pvalue',pvalue)"
   ]
  },
  {
   "cell_type": "code",
   "execution_count": 7,
   "id": "b68cd538",
   "metadata": {},
   "outputs": [
    {
     "name": "stdout",
     "output_type": "stream",
     "text": [
      "tau 0.6\n",
      "p_value 0.23333333333333334\n"
     ]
    }
   ],
   "source": [
    "x1 = [10,9,8,7,6]\n",
    "x2 = [10,8,9,6,7]\n",
    "\n",
    "tau, p_value = stats.kendalltau(x1, x2)\n",
    "print('tau',tau)\n",
    "print('p_value',p_value)"
   ]
  },
  {
   "cell_type": "code",
   "execution_count": 8,
   "id": "8de541c7",
   "metadata": {},
   "outputs": [
    {
     "data": {
      "text/plain": [
       "PointbiserialrResult(correlation=0.7849870641173373, pvalue=4.145927973490357e-05)"
      ]
     },
     "execution_count": 8,
     "metadata": {},
     "output_type": "execute_result"
    }
   ],
   "source": [
    "x = [1,0,0,0,0,0,0,1,1,1,1,0,1,1,1,1,1,0,0,0]\n",
    "y = [84,82,76,60,72,74,76,84,88,90,78,80,92,94,96,88,90,78,76,74]\n",
    "\n",
    "stats.pointbiserialr(x,y)"
   ]
  },
  {
   "cell_type": "code",
   "execution_count": null,
   "id": "7274857c",
   "metadata": {},
   "outputs": [],
   "source": []
  }
 ],
 "metadata": {
  "kernelspec": {
   "display_name": "Python 3 (ipykernel)",
   "language": "python",
   "name": "python3"
  },
  "language_info": {
   "codemirror_mode": {
    "name": "ipython",
    "version": 3
   },
   "file_extension": ".py",
   "mimetype": "text/x-python",
   "name": "python",
   "nbconvert_exporter": "python",
   "pygments_lexer": "ipython3",
   "version": "3.9.13"
  }
 },
 "nbformat": 4,
 "nbformat_minor": 5
}
