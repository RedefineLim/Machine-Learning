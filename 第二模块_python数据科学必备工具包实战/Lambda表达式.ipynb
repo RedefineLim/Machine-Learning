{
 "cells": [
  {
   "cell_type": "markdown",
   "id": "9d526614",
   "metadata": {},
   "source": [
    "# Python基础之lambda表达式\n",
    "\n",
    "## 1、lambda函数介绍\n",
    "\n",
    "有时在使用函数时不需要给函数分配一个名称，该函数就是“匿名函数”。在python中使用lambda表达式表示匿名函数\n",
    "\n",
    "语法：lambda 参数列表：lambda体\n",
    "\n",
    "lambda是关键字声明，在lambda表达式中，参数列表与函数中的参数列表一样，但不需要用小括号括起来，冒号后面是lambda体，lambda表达式的主要代码在lambda体处编写，类似于函数体。\n",
    "\n",
    "提示：lambda体不能是一个代码块，不能包含多条语句，只能包含一条语句，该语句会计算一个结果返回给lambda表达式，但与函数不同的是，不需要使用return语句返回，而且当使用函数作为参数的时候。lambda表达式非常有用，可以让代码简洁，简单。\n",
    "\n",
    "## 2、lambda函数与def函数的区别\n",
    "\n",
    "1.lambda可以立即传递（无需变量），自行返回结果\n",
    "\n",
    "2.lambda在内部只能包含一行代码\n",
    "\n",
    "3.lambda是一个为编写简单函数而设计的，而def用来处理更大的任务\n",
    "\n",
    "4.lambda可以定义一个匿名函数，而def定义的函数必须有一个名字\n",
    "\n",
    "lambda函数的优势：\n",
    "\n",
    "1.对于单行函数，使用lambda表达式可以省去定义函数的过程，让代码更加简洁\n",
    "\n",
    "2.对于不需要多次复用的函数，用lambda表达式可以在用完后立即释放，提高程序执行的性能。\n",
    "\n",
    "## 3、lambda案例"
   ]
  },
  {
   "cell_type": "code",
   "execution_count": 1,
   "id": "144173e5",
   "metadata": {},
   "outputs": [
    {
     "name": "stdout",
     "output_type": "stream",
     "text": [
      "30\n"
     ]
    }
   ],
   "source": [
    "#def函数写法\n",
    "def add(a,b):\n",
    "    return a + b\n",
    "\n",
    "print(add(10,20))"
   ]
  },
  {
   "cell_type": "code",
   "execution_count": 2,
   "id": "e5be85af",
   "metadata": {},
   "outputs": [
    {
     "name": "stdout",
     "output_type": "stream",
     "text": [
      "30\n"
     ]
    }
   ],
   "source": [
    "#lambda函数写法\n",
    "add_lambda = lambda a, b: a + b\n",
    "print(add_lambda(10, 20))"
   ]
  },
  {
   "cell_type": "markdown",
   "id": "6b265118",
   "metadata": {},
   "source": [
    "列表排序"
   ]
  },
  {
   "cell_type": "code",
   "execution_count": 3,
   "id": "ef4fc49e",
   "metadata": {},
   "outputs": [
    {
     "name": "stdout",
     "output_type": "stream",
     "text": [
      "[(2, '小黑'), (3, '王五'), (4, '张三'), (5, '小白')]\n"
     ]
    }
   ],
   "source": [
    "a = [(2, '小黑'), (5, '小白'), (4, '张三'), (3, '王五')]\n",
    "a.sort(key=lambda x:x[0])\n",
    "print(a)"
   ]
  },
  {
   "cell_type": "markdown",
   "id": "2b2e971c",
   "metadata": {},
   "source": [
    "## 4、map方法混搭\n",
    "\n",
    "遍历序列，对序列中每个元素进行操作，最终获得新的序列"
   ]
  },
  {
   "cell_type": "code",
   "execution_count": 4,
   "id": "e09c6bd8",
   "metadata": {},
   "outputs": [
    {
     "name": "stdout",
     "output_type": "stream",
     "text": [
      "<map object at 0x000002EA13AF44C0>\n",
      "[1, 4, 9, 16, 25]\n",
      "__________________________________________________\n",
      "[1, 4, 9, 16, 25]\n",
      "[2, 4]\n",
      "15\n"
     ]
    }
   ],
   "source": [
    "from functools import reduce\n",
    " \n",
    " \n",
    "def add(num):\n",
    "    return num ** 2\n",
    " \n",
    " \n",
    "x = map(add, [1, 2, 3, 4, 5])\n",
    "print(x)\n",
    "print(list(x))\n",
    "print(\"_\" * 50)\n",
    " \n",
    "y = map(lambda num: num ** 2, [1, 2, 3, 4, 5])  # map()对序列中的每个元素进行操作，获得新的序列\n",
    "print(list(y))\n",
    " \n",
    "x = filter(lambda num: num % 2 == 0, [1, 2, 3, 4, 5])  # filter()对序列中的每个元素筛选，获得新的序列\n",
    "print(list(x))\n",
    " \n",
    "list1 = [1, 2, 3, 4, 5]\n",
    "list2 = reduce(lambda x, y: x + y, list1)  # reduce()对序列中元素进行累加\n",
    "print(list2)"
   ]
  }
 ],
 "metadata": {
  "kernelspec": {
   "display_name": "Python 3 (ipykernel)",
   "language": "python",
   "name": "python3"
  },
  "language_info": {
   "codemirror_mode": {
    "name": "ipython",
    "version": 3
   },
   "file_extension": ".py",
   "mimetype": "text/x-python",
   "name": "python",
   "nbconvert_exporter": "python",
   "pygments_lexer": "ipython3",
   "version": "3.9.13"
  }
 },
 "nbformat": 4,
 "nbformat_minor": 5
}
