{
 "cells": [
  {
   "cell_type": "markdown",
   "id": "c07dc552",
   "metadata": {},
   "source": [
    "# NumPy详细教程"
   ]
  },
  {
   "cell_type": "markdown",
   "id": "e38248e7",
   "metadata": {},
   "source": [
    "作为数据分析三剑客之一的numpy，只要用到python来进行数据分析，那numpy是必不可少的\n",
    "\n",
    "NumPy，一言以蔽之，是Python中基于数组对象的科学计算库。它是Python语言的一个扩展程序库，支持大量的维度数组与矩阵运算，以及大量的数学函数库。NumPy的核心是ndarray对象，它是一个功能强大的N维数组对象，封装了n维同类数组。很多运算是由编译过的代码来执行的，以此来提高效率。\n",
    "\n",
    "以下是NumPy的一些主要特点："
   ]
  },
  {
   "cell_type": "markdown",
   "id": "b71994ad",
   "metadata": {},
   "source": [
    "1. 多维数组对象：NumPy的核心数据结构是ndarray，它是一个多维数组，用于存储同质数据类型的元素。这些数组可以是一维、二维、三维等，非常适用于向量化操作和矩阵运算。\n",
    "\n",
    "2. 广播功能：NumPy允许在不同形状的数组之间执行操作，通过广播功能，它可以自动调整数组的形状，以使操作变得有效。\n",
    "\n",
    "3. 丰富的数学函数：NumPy提供了大量的数学、统计和线性代数函数，包括基本的加减乘除、三角函数、指数和对数函数、随机数生成、矩阵操作等。\n",
    "\n",
    "4. 索引和切片：NumPy允许使用索引和切片操作来访问和修改数组中的元素，这使得数据的选择和处理非常灵活。\n",
    "\n",
    "5. 高性能计算：NumPy的底层实现是用C语言编写的，因此它在处理大规模数据时非常高效。此外，NumPy还与其他高性能计算库（如BLAS和LAPACK）集成，提供了快速的线性代数运算。\n",
    "\n",
    "6. 互操作性：NumPy可以与许多其他Python库和数据格式（例如Pandas、SciPy、Matplotlib）无缝集成，这使得数据科学工作流更加流畅。\n"
   ]
  },
  {
   "cell_type": "markdown",
   "id": "bb41d680",
   "metadata": {},
   "source": [
    "NumPy的广泛应用范围包括数据处理、科学研究、机器学习、图像处理、信号处理等各种领域。\n",
    "\n",
    "它为数据分析人员、科学家和工程师提供了一个功能强大且高效的工具，以便进行数值计算和数据处理"
   ]
  },
  {
   "cell_type": "markdown",
   "id": "49c26af6",
   "metadata": {},
   "source": [
    "## 创建数组"
   ]
  },
  {
   "cell_type": "markdown",
   "id": "773cbd99",
   "metadata": {},
   "source": [
    "### 1.1创建一维数组"
   ]
  },
  {
   "cell_type": "code",
   "execution_count": 4,
   "id": "f909dd04",
   "metadata": {},
   "outputs": [
    {
     "name": "stdout",
     "output_type": "stream",
     "text": [
      "[1 2 3 4]\n"
     ]
    }
   ],
   "source": [
    "import numpy as np\n",
    "data1 = np.array([1,2,3,4])\n",
    "print(data1)"
   ]
  },
  {
   "cell_type": "markdown",
   "id": "0656bc17",
   "metadata": {},
   "source": [
    "### 1.2创建二维数组(矩阵matrix)"
   ]
  },
  {
   "cell_type": "code",
   "execution_count": 7,
   "id": "42c9f7ef",
   "metadata": {},
   "outputs": [
    {
     "name": "stdout",
     "output_type": "stream",
     "text": [
      "[[1 2 3 4]\n",
      " [4 5 6 7]]\n"
     ]
    }
   ],
   "source": [
    "data2 = np.array([[1,2,3,4], [4,5,6,7]])\n",
    "print(data2)"
   ]
  },
  {
   "cell_type": "markdown",
   "id": "f56a47cb",
   "metadata": {},
   "source": [
    "### 1.3创建全0数组"
   ]
  },
  {
   "cell_type": "markdown",
   "id": "510101df",
   "metadata": {},
   "source": [
    "**shape属性代表形状 shape（2，5） 就代表创建2行5列的全零数组**"
   ]
  },
  {
   "cell_type": "markdown",
   "id": "3729ad20",
   "metadata": {},
   "source": [
    "创建全零数组的用途是初始化一个具有特定形状和大小的数组，其中所有元素都设置为0。在处理图像或其他数据时，全零数组可以用作初始值或占位符。\n",
    "\n",
    "例如，假设我们要读取一个尺寸为（255，255，255）的图片，我们可以创建一个相同维度的全零数组，然后将图片读入该数组进行填充。这样做的好处是，我们可以直接将原始图像数据存储在全零数组中，而无需担心数据溢出或其他问题。"
   ]
  },
  {
   "cell_type": "code",
   "execution_count": 9,
   "id": "aa9824b0",
   "metadata": {},
   "outputs": [
    {
     "name": "stdout",
     "output_type": "stream",
     "text": [
      "[[0. 0. 0.]\n",
      " [0. 0. 0.]\n",
      " [0. 0. 0.]\n",
      " [0. 0. 0.]\n",
      " [0. 0. 0.]]\n"
     ]
    }
   ],
   "source": [
    "data3 = np.zeros(shape=(5,3))\n",
    "print(data3)"
   ]
  },
  {
   "cell_type": "markdown",
   "id": "b5e25f39",
   "metadata": {},
   "source": [
    "### 1.4创建全1数组"
   ]
  },
  {
   "cell_type": "markdown",
   "id": "aac7c234",
   "metadata": {},
   "source": [
    "创建全1数组的用途是初始化一个具有特定形状和大小的数组，其中所有元素都设置为1。在处理一些数学问题或算法时，全1数组可以用作初始值或占位符。\n",
    "\n",
    "例如，假设我们要计算一个矩阵与自身的转置相乘的结果，我们可以创建一个与输入矩阵相同维度的全1数组，然后将输入矩阵读入该数组进行填充。这样做的好处是，我们可以直接将原始矩阵数据存储在全1数组中，而无需担心数据溢出或其他问题。\n"
   ]
  },
  {
   "cell_type": "code",
   "execution_count": 10,
   "id": "87c43517",
   "metadata": {},
   "outputs": [
    {
     "name": "stdout",
     "output_type": "stream",
     "text": [
      "[[1. 1. 1.]\n",
      " [1. 1. 1.]\n",
      " [1. 1. 1.]\n",
      " [1. 1. 1.]\n",
      " [1. 1. 1.]]\n"
     ]
    }
   ],
   "source": [
    "#Shape代表形状, 比如我这里创建的就是5行3列的二维数组\n",
    "data4 = np.ones(shape=(5,3))\n",
    "print(data4)"
   ]
  },
  {
   "cell_type": "markdown",
   "id": "6537ec7d",
   "metadata": {},
   "source": [
    "### 1.5创建全空数组"
   ]
  },
  {
   "cell_type": "markdown",
   "id": "88ca9f02",
   "metadata": {},
   "source": [
    "*创建出来的全空数组中的数据都是无限小的、无限接近于0但不是0，这方便我们数学上的一些操作*"
   ]
  },
  {
   "cell_type": "code",
   "execution_count": 11,
   "id": "4ecd0e95",
   "metadata": {},
   "outputs": [
    {
     "name": "stdout",
     "output_type": "stream",
     "text": [
      "[[1. 1. 1.]\n",
      " [1. 1. 1.]\n",
      " [1. 1. 1.]\n",
      " [1. 1. 1.]\n",
      " [1. 1. 1.]]\n"
     ]
    }
   ],
   "source": [
    "data5 = np.empty(shape=(5,3))\n",
    "print(data5)"
   ]
  },
  {
   "cell_type": "markdown",
   "id": "3a601d18",
   "metadata": {},
   "source": [
    "### 1.6创建有连续序列的数组arange"
   ]
  },
  {
   "cell_type": "markdown",
   "id": "d0fb88f3",
   "metadata": {},
   "source": [
    "*数组从10开始步长为2，所以创建出来数组元素就是10，12，14*"
   ]
  },
  {
   "cell_type": "code",
   "execution_count": 12,
   "id": "ad238b9b",
   "metadata": {},
   "outputs": [
    {
     "name": "stdout",
     "output_type": "stream",
     "text": [
      "[10 12 14]\n"
     ]
    }
   ],
   "source": [
    "data6 = np.arange(10, 16, 2) #10~16的数据, 步长为2\n",
    "print(data6)"
   ]
  },
  {
   "cell_type": "markdown",
   "id": "61998d77",
   "metadata": {},
   "source": [
    "### 1.7创建有连续间隔的数组linspace"
   ]
  },
  {
   "cell_type": "markdown",
   "id": "a163ac8c",
   "metadata": {},
   "source": [
    "*也可以称为线性等分向量（linear space），在一个指定区间内按照指定的步长，将区间均等分，生成的是一个线段类型的数组。生成的线性间隔数据中，是有把区间的两端加进去的*"
   ]
  },
  {
   "cell_type": "code",
   "execution_count": 13,
   "id": "267cdff2",
   "metadata": {},
   "outputs": [
    {
     "name": "stdout",
     "output_type": "stream",
     "text": [
      "[ 1.          1.47368421  1.94736842  2.42105263  2.89473684  3.36842105\n",
      "  3.84210526  4.31578947  4.78947368  5.26315789  5.73684211  6.21052632\n",
      "  6.68421053  7.15789474  7.63157895  8.10526316  8.57894737  9.05263158\n",
      "  9.52631579 10.        ]\n"
     ]
    }
   ],
   "source": [
    "data7 = np.linspace(1,10,20)#开始端为1, 结束端为10, 且分割成20个数据, 生成线段\n",
    "print(data7)"
   ]
  },
  {
   "cell_type": "markdown",
   "id": "84d7562b",
   "metadata": {},
   "source": [
    "### 1.8创建随机数组"
   ]
  },
  {
   "cell_type": "markdown",
   "id": "978e2280",
   "metadata": {},
   "source": [
    " 创建随机数组的用途是初始化一个具有特定形状和大小的数组，其中所有元素都是随机生成的。在处理一些需要模拟随机数据的情况时，随机数组可以用作占位符或测试数据。"
   ]
  },
  {
   "cell_type": "code",
   "execution_count": 14,
   "id": "7b71e04a",
   "metadata": {},
   "outputs": [
    {
     "name": "stdout",
     "output_type": "stream",
     "text": [
      "[[0.17559529 0.78972116 0.23990782 0.54055349]\n",
      " [0.08274342 0.777315   0.52104463 0.63630454]\n",
      " [0.71989636 0.62332734 0.10957483 0.35060757]]\n"
     ]
    }
   ],
   "source": [
    "data8 = np.random.rand(3,4)\n",
    "print(data8)"
   ]
  },
  {
   "cell_type": "markdown",
   "id": "c18c400c",
   "metadata": {},
   "source": [
    "这里我们还可以用另外一种方法创建数组，这种方法很灵活，也好用\n",
    "\n",
    "这段代码使用NumPy库创建了一个4行5列的随机整数数组，其中每个元素的值在2到5之间"
   ]
  },
  {
   "cell_type": "code",
   "execution_count": 16,
   "id": "2bf1de89",
   "metadata": {},
   "outputs": [
    {
     "name": "stdout",
     "output_type": "stream",
     "text": [
      "[[4 4 2 2 3]\n",
      " [3 3 4 4 4]\n",
      " [3 2 4 4 2]\n",
      " [3 4 3 3 3]]\n"
     ]
    }
   ],
   "source": [
    "data9 = np.random.randint(2,5,size = (4,5))\n",
    "print(data9)"
   ]
  },
  {
   "cell_type": "markdown",
   "id": "a6d673a6",
   "metadata": {},
   "source": [
    "### 1.9改变数组的形状"
   ]
  },
  {
   "cell_type": "markdown",
   "id": "03ddc38c",
   "metadata": {},
   "source": [
    "这个怎么理解呢，比如说你本来有一个2行3列的数组，你可以把它改成为3行2列的数组"
   ]
  },
  {
   "cell_type": "markdown",
   "id": "bf98636c",
   "metadata": {},
   "source": [
    " 注意：因为数组中元素是没有改变的，所以重塑数组指定的尺寸大小是否和原本的尺寸大小一样，大一点和小一点都会报错，2行3列的数组，你可以把它改成为3行2列的数组 ，或者1行6列，改后尺寸必须一样，reshape本质就是原本数组中的元素按顺序展开来，然后依次填入新定义的尺寸中去.注意 reshape后面填的是**元组**数据类型"
   ]
  },
  {
   "cell_type": "code",
   "execution_count": 17,
   "id": "7bc9e9f6",
   "metadata": {},
   "outputs": [
    {
     "name": "stdout",
     "output_type": "stream",
     "text": [
      "改之前的形状为: \n",
      "[[1 2 3 4 5]\n",
      " [1 2 3 4 5]]\n",
      "(2, 5)\n",
      "改之后的形状为: \n",
      "[[1 2]\n",
      " [3 4]\n",
      " [5 1]\n",
      " [2 3]\n",
      " [4 5]]\n",
      "(5, 2)\n"
     ]
    }
   ],
   "source": [
    "data10 = [1,2,3,4,5]\n",
    "data11 = [1,2,3,4,5]\n",
    "data = np.array([data10, data11])\n",
    "print('改之前的形状为: ')\n",
    "print(data)\n",
    "print(data.shape)\n",
    "\n",
    "data = data.reshape((5,2))\n",
    "print('改之后的形状为: ')\n",
    "print(data)\n",
    "print(data.shape)"
   ]
  },
  {
   "cell_type": "markdown",
   "id": "e3498415",
   "metadata": {},
   "source": [
    "### 1.10数组转置"
   ]
  },
  {
   "cell_type": "code",
   "execution_count": 19,
   "id": "ff4ae3f0",
   "metadata": {},
   "outputs": [
    {
     "name": "stdout",
     "output_type": "stream",
     "text": [
      "没有转置数组之前的数组为: \n",
      "[[1 2 3]\n",
      " [4 5 6]\n",
      " [7 8 9]]\n",
      "转置之后的数组为： \n",
      "[[1 4 7]\n",
      " [2 5 8]\n",
      " [3 6 9]]\n"
     ]
    }
   ],
   "source": [
    "data = [[1,2,3], [4,5,6], [7,8,9]]\n",
    "data_array = np.array(data)\n",
    "print('没有转置数组之前的数组为: ')\n",
    "print(data_array)\n",
    "print('转置之后的数组为： ')\n",
    "print(data_array.T)"
   ]
  },
  {
   "cell_type": "markdown",
   "id": "b84ff21d",
   "metadata": {},
   "source": [
    "## 数组显示操作"
   ]
  },
  {
   "cell_type": "markdown",
   "id": "53e20f96",
   "metadata": {},
   "source": [
    "### 2.1数组维度ndim"
   ]
  },
  {
   "cell_type": "markdown",
   "id": "813d45ad",
   "metadata": {},
   "source": [
    "ndim属性代表数组的维度"
   ]
  },
  {
   "cell_type": "code",
   "execution_count": 22,
   "id": "f1331a12",
   "metadata": {},
   "outputs": [
    {
     "name": "stdout",
     "output_type": "stream",
     "text": [
      "2\n"
     ]
    }
   ],
   "source": [
    "data = np.array([[1,2,3], [4,5,6]])\n",
    "print(data.ndim)"
   ]
  },
  {
   "cell_type": "markdown",
   "id": "25ac462a",
   "metadata": {},
   "source": [
    "### 2.2数组的形状shape"
   ]
  },
  {
   "cell_type": "markdown",
   "id": "d85217ec",
   "metadata": {},
   "source": [
    "shape属性代表数组形状，可以这么理解shape是各个方向的维度(ndim)"
   ]
  },
  {
   "cell_type": "code",
   "execution_count": 23,
   "id": "0df4e132",
   "metadata": {},
   "outputs": [
    {
     "name": "stdout",
     "output_type": "stream",
     "text": [
      "(2, 3)\n"
     ]
    }
   ],
   "source": [
    "print(data.shape)"
   ]
  },
  {
   "cell_type": "markdown",
   "id": "087fc6a2",
   "metadata": {},
   "source": [
    "### 2.3数组中元素的个数"
   ]
  },
  {
   "cell_type": "code",
   "execution_count": 24,
   "id": "8f0e8d3f",
   "metadata": {},
   "outputs": [
    {
     "name": "stdout",
     "output_type": "stream",
     "text": [
      "6\n"
     ]
    }
   ],
   "source": [
    "print(data.size)"
   ]
  },
  {
   "cell_type": "markdown",
   "id": "d042117b",
   "metadata": {},
   "source": [
    "### 2.4数组的数据类型dtype"
   ]
  },
  {
   "cell_type": "code",
   "execution_count": 25,
   "id": "a93d1a47",
   "metadata": {},
   "outputs": [
    {
     "name": "stdout",
     "output_type": "stream",
     "text": [
      "int32\n"
     ]
    }
   ],
   "source": [
    "print(data.dtype)"
   ]
  },
  {
   "cell_type": "markdown",
   "id": "e813438a",
   "metadata": {},
   "source": [
    "## 数组的运算"
   ]
  },
  {
   "cell_type": "markdown",
   "id": "ad9eec7f",
   "metadata": {},
   "source": [
    "### 3.1数组加法"
   ]
  },
  {
   "cell_type": "code",
   "execution_count": 26,
   "id": "5c0e4543",
   "metadata": {},
   "outputs": [
    {
     "name": "stdout",
     "output_type": "stream",
     "text": [
      "[5 7 9]\n"
     ]
    }
   ],
   "source": [
    "array1 = np.array([1,2,3])\n",
    "array2 = np.array([4,5,6])\n",
    "result = array1 + array2\n",
    "print(result)"
   ]
  },
  {
   "cell_type": "markdown",
   "id": "42c61dec",
   "metadata": {},
   "source": [
    "### 3.2数组乘法"
   ]
  },
  {
   "cell_type": "code",
   "execution_count": 27,
   "id": "4391876f",
   "metadata": {},
   "outputs": [
    {
     "name": "stdout",
     "output_type": "stream",
     "text": [
      "[ 4 10 18]\n"
     ]
    }
   ],
   "source": [
    "result = array1 * array2\n",
    "print(result)"
   ]
  },
  {
   "cell_type": "markdown",
   "id": "e1010aed",
   "metadata": {},
   "source": [
    "## 数组中的数据统计"
   ]
  },
  {
   "cell_type": "markdown",
   "id": "069e4c75",
   "metadata": {},
   "source": [
    "数据统计大家有个印象就行，不要刻意的去记，用到的时候回来看一眼就可以了，多用也就会了"
   ]
  },
  {
   "cell_type": "markdown",
   "id": "98f0483a",
   "metadata": {},
   "source": [
    "### 4.1计算数组的平均值\n",
    "**numpy.mean(arr, axis=None, dtype=None, out=None)**: 计算数组的平均值。参数axis表示沿着哪个轴进行计算，默认为None，表示计算整个数组的平均值；dtype表示返回结果的数据类型，默认为float64；out表示将结果存储在指定的数组中,一般情况下，传个数组进去就可以了，其他的用默认的就好了，其它的方法也是一样，我不赘述"
   ]
  },
  {
   "cell_type": "code",
   "execution_count": 28,
   "id": "ac66f8ea",
   "metadata": {},
   "outputs": [
    {
     "name": "stdout",
     "output_type": "stream",
     "text": [
      "5.25\n"
     ]
    }
   ],
   "source": [
    "data = [1,5,6,9]\n",
    "print(np.mean(data))"
   ]
  },
  {
   "cell_type": "markdown",
   "id": "f71eea8f",
   "metadata": {},
   "source": [
    "### 4.2计算数组的中位数\n",
    "**numpy.median(arr, axis=None, out=None)**: 计算数组的中位数。参数axis和out的含义与numpy.mean()相同"
   ]
  },
  {
   "cell_type": "code",
   "execution_count": 29,
   "id": "8d92d275",
   "metadata": {},
   "outputs": [
    {
     "name": "stdout",
     "output_type": "stream",
     "text": [
      "5.5\n"
     ]
    }
   ],
   "source": [
    "print(np.median(data))"
   ]
  },
  {
   "cell_type": "markdown",
   "id": "269febc2",
   "metadata": {},
   "source": [
    "### 4.3计算数组的标准差\n",
    "**numpy.std(arr, axis=None, dtype=None, out=None)**: 计算数组的标准差。参数axis、dtype和out的含义与numpy.mean()相同。\n",
    "### 4.4计算数组的方差\n",
    "**numpy.var(arr, axis=None, dtype=None, out=None)**: 计算数组的方差。参数axis、dtype和out的含义与numpy.mean()相同。\n",
    "### 4.5计算数组的最小值\n",
    "**numpy.min(arr, axis=None, out=None)**: 计算数组的最小值。参数axis和out的含义与numpy.mean()相同。\n",
    "### 4.6计算数组的最大值\n",
    "**numpy.max(arr, axis=None, out=None)**: 计算数组的最大值。参数axis和out的含义与numpy.mean()相同\n",
    "### 4.7计算数组的元素之和\n",
    "**numpy.sum(arr, axis=None, dtype=None, out=None)**: 计算数组的元素之和。参数axis、dtype和out的含义与numpy.mean()相同。\n",
    "### 4.8计算数组的元素乘积\n",
    "**numpy.prod(arr, axis=None, dtype=None, out=None)**: 计算数组的元素乘积。参数axis、dtype和out的含义与numpy.mean()相同\n",
    "### 4.9计算数组的累积和\n",
    "**numpy.cumsum(arr, axis=None, dtype=None, out=None)**: 计算数组的累积和。参数axis、dtype和out的含义与numpy.mean()相同。"
   ]
  },
  {
   "cell_type": "markdown",
   "id": "2183ac65",
   "metadata": {},
   "source": [
    "## 数组的索引和切片"
   ]
  },
  {
   "cell_type": "markdown",
   "id": "ebe9e691",
   "metadata": {},
   "source": [
    "### 5.1一维数组切片"
   ]
  },
  {
   "cell_type": "markdown",
   "id": "7bfb9a8c",
   "metadata": {},
   "source": [
    "对于一维数组来说，它类似于一条直线，其上的坐标位置用一个数字就可以表示。例如，对于一个长度为5的一维数组arr = [1, 2, 3, 4, 5]，我们可以用数字0到4来表示它的每一个位置。当我们使用切片操作时，就可以通过指定起始位置和结束位置来获取数组中的一部分元素。例如，如果我们想要获取从索引1到索引3的元素，可以使用切片操作arr[1:4]，结果为[2, 3, 4]。需要注意的是，切片操作是左闭右开的，即包括起始位置，但不包括结束位置"
   ]
  },
  {
   "cell_type": "code",
   "execution_count": 30,
   "id": "aacda963",
   "metadata": {},
   "outputs": [
    {
     "name": "stdout",
     "output_type": "stream",
     "text": [
      "[2 3 4]\n"
     ]
    }
   ],
   "source": [
    "arr = np.array([1,2,3,4,5])\n",
    "print(arr[1:4])"
   ]
  },
  {
   "cell_type": "markdown",
   "id": "2acbf1a3",
   "metadata": {},
   "source": [
    "### 5.2多维数组切片"
   ]
  },
  {
   "cell_type": "code",
   "execution_count": 32,
   "id": "4982d800",
   "metadata": {},
   "outputs": [
    {
     "name": "stdout",
     "output_type": "stream",
     "text": [
      "[[[ 1  2  3  4  5]\n",
      "  [ 6  7  8  9 10]\n",
      "  [11 12 13 14 15]]\n",
      "\n",
      " [[16 17 18 19 20]\n",
      "  [21 22 23 24 25]\n",
      "  [26 27 28 29 30]]]\n"
     ]
    }
   ],
   "source": [
    "data1=[1,2,3,4,5]\n",
    "data2=[6,7,8,9,10]\n",
    "data3=[11,12,13,14,15]\n",
    "data4=[16,17,18,19,20]\n",
    "data5=[21,22,23,24,25]\n",
    "data6=[26,27,28,29,30]\n",
    "data=np.array([[data1,data2,data3],[data4,data5,data6]])\n",
    "print(data)"
   ]
  },
  {
   "cell_type": "markdown",
   "id": "e8d22322",
   "metadata": {},
   "source": [
    "我们以实操来进行讲解"
   ]
  },
  {
   "cell_type": "markdown",
   "id": "b08b62fd",
   "metadata": {},
   "source": [
    "**行切片**"
   ]
  },
  {
   "cell_type": "markdown",
   "id": "c56fcb74",
   "metadata": {},
   "source": [
    "假设我们现在只想取前面两行，那我们应该怎么做呢？\n",
    "\n",
    "思路：我们先取第一维数据"
   ]
  },
  {
   "cell_type": "code",
   "execution_count": 33,
   "id": "08c78417",
   "metadata": {},
   "outputs": [
    {
     "name": "stdout",
     "output_type": "stream",
     "text": [
      "[[[ 1  2  3  4  5]\n",
      "  [ 6  7  8  9 10]\n",
      "  [11 12 13 14 15]]]\n"
     ]
    }
   ],
   "source": [
    "print(data[0:1])"
   ]
  },
  {
   "cell_type": "markdown",
   "id": "456a9691",
   "metadata": {},
   "source": [
    "现在它现在是不是就被分解成一个2维数组，我们再对这个2维数组进行操作，要想取这个2维数组前面两行，代码是啥呢？是不是就是data[0:2],那我们结合第一步的代码，应该怎么做呢？"
   ]
  },
  {
   "cell_type": "code",
   "execution_count": 34,
   "id": "efdae993",
   "metadata": {},
   "outputs": [
    {
     "name": "stdout",
     "output_type": "stream",
     "text": [
      "[[[ 1  2  3  4  5]\n",
      "  [ 6  7  8  9 10]]]\n"
     ]
    }
   ],
   "source": [
    "print(data[0:1, 0:2])"
   ]
  },
  {
   "cell_type": "markdown",
   "id": "f93d4fa9",
   "metadata": {},
   "source": [
    "**列切片**"
   ]
  },
  {
   "cell_type": "code",
   "execution_count": 35,
   "id": "38847169",
   "metadata": {},
   "outputs": [
    {
     "name": "stdout",
     "output_type": "stream",
     "text": [
      "[[[ 1  2  3  4  5]\n",
      "  [ 6  7  8  9 10]\n",
      "  [11 12 13 14 15]]\n",
      "\n",
      " [[16 17 18 19 20]\n",
      "  [21 22 23 24 25]\n",
      "  [26 27 28 29 30]]]\n"
     ]
    }
   ],
   "source": [
    "print(data[:,])"
   ]
  },
  {
   "cell_type": "markdown",
   "id": "a967f6c4",
   "metadata": {},
   "source": [
    "可能这个操作小伙伴有些就看不懂了，啥意思呢，还是一句话，一维一维的进行分解，因为我们要取的是列，所有全部的行我们就应该都算进去，换句话来说，忽略行的影响 代码就是data[:,]\n",
    "\n",
    "再来取第2维\n",
    "\n",
    "代码还是data[:]结合起来就是"
   ]
  },
  {
   "cell_type": "code",
   "execution_count": 36,
   "id": "d2f53587",
   "metadata": {},
   "outputs": [
    {
     "name": "stdout",
     "output_type": "stream",
     "text": [
      "[[[ 1  2  3  4  5]\n",
      "  [ 6  7  8  9 10]\n",
      "  [11 12 13 14 15]]\n",
      "\n",
      " [[16 17 18 19 20]\n",
      "  [21 22 23 24 25]\n",
      "  [26 27 28 29 30]]]\n"
     ]
    }
   ],
   "source": [
    "print(data[:, :,])"
   ]
  },
  {
   "cell_type": "markdown",
   "id": "8920e510",
   "metadata": {},
   "source": [
    "我们再来取最后一维"
   ]
  },
  {
   "cell_type": "code",
   "execution_count": 37,
   "id": "3c733bc8",
   "metadata": {},
   "outputs": [
    {
     "name": "stdout",
     "output_type": "stream",
     "text": [
      "[[[ 1  2]\n",
      "  [ 6  7]\n",
      "  [11 12]]\n",
      "\n",
      " [[16 17]\n",
      "  [21 22]\n",
      "  [26 27]]]\n"
     ]
    }
   ],
   "source": [
    "print(data[:, :, 0:2])"
   ]
  },
  {
   "cell_type": "markdown",
   "id": "bda43e6c",
   "metadata": {},
   "source": [
    "至此，列取片也完成\n",
    "\n",
    "总结：不管是列取片，还是行取片，你都去一维一维的去进行拆分，一维一维的去切片就好了 "
   ]
  },
  {
   "cell_type": "markdown",
   "id": "b8ddf4de",
   "metadata": {},
   "source": [
    "## 数组堆叠"
   ]
  },
  {
   "cell_type": "code",
   "execution_count": 39,
   "id": "b6b678e0",
   "metadata": {},
   "outputs": [],
   "source": [
    "array1 = np.array([1,2,3,4,5])\n",
    "array2 = np.array([6,7,8,9,10])"
   ]
  },
  {
   "cell_type": "markdown",
   "id": "ae7096bf",
   "metadata": {},
   "source": [
    "### 6.1垂直堆叠"
   ]
  },
  {
   "cell_type": "code",
   "execution_count": 41,
   "id": "f06aa397",
   "metadata": {},
   "outputs": [
    {
     "name": "stdout",
     "output_type": "stream",
     "text": [
      "[[ 1  2  3  4  5]\n",
      " [ 6  7  8  9 10]]\n"
     ]
    }
   ],
   "source": [
    "stacked_vertically = np.vstack((array1, array2))\n",
    "print(stacked_vertically)"
   ]
  },
  {
   "cell_type": "markdown",
   "id": "06746102",
   "metadata": {},
   "source": [
    "### 6.2水平堆叠"
   ]
  },
  {
   "cell_type": "code",
   "execution_count": 42,
   "id": "7dc385a2",
   "metadata": {},
   "outputs": [
    {
     "name": "stdout",
     "output_type": "stream",
     "text": [
      "[ 1  2  3  4  5  6  7  8  9 10]\n"
     ]
    }
   ],
   "source": [
    "stacked_horizontally = np.hstack((array1, array2))\n",
    "print(stacked_horizontally)"
   ]
  },
  {
   "cell_type": "markdown",
   "id": "b0e771f4",
   "metadata": {},
   "source": [
    "## 保存和加载数组"
   ]
  },
  {
   "cell_type": "markdown",
   "id": "5626e9b5",
   "metadata": {},
   "source": [
    "### 7.1保存数组到文件"
   ]
  },
  {
   "cell_type": "code",
   "execution_count": null,
   "id": "941afbf5",
   "metadata": {},
   "outputs": [],
   "source": [
    "np.save('my_array.npy', data)"
   ]
  },
  {
   "cell_type": "markdown",
   "id": "b3205725",
   "metadata": {},
   "source": [
    "### 7.2 加载数组"
   ]
  },
  {
   "cell_type": "code",
   "execution_count": null,
   "id": "c7dec9c6",
   "metadata": {},
   "outputs": [],
   "source": [
    "loaded_data = np.load('my_array.npy')"
   ]
  }
 ],
 "metadata": {
  "kernelspec": {
   "display_name": "Python 3 (ipykernel)",
   "language": "python",
   "name": "python3"
  },
  "language_info": {
   "codemirror_mode": {
    "name": "ipython",
    "version": 3
   },
   "file_extension": ".py",
   "mimetype": "text/x-python",
   "name": "python",
   "nbconvert_exporter": "python",
   "pygments_lexer": "ipython3",
   "version": "3.9.13"
  }
 },
 "nbformat": 4,
 "nbformat_minor": 5
}
